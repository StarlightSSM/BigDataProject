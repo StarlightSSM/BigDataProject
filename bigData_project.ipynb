{
  "nbformat": 4,
  "nbformat_minor": 0,
  "metadata": {
    "colab": {
      "private_outputs": true,
      "provenance": []
    },
    "kernelspec": {
      "name": "python3",
      "display_name": "Python 3"
    },
    "language_info": {
      "name": "python"
    }
  },
  "cells": [
    {
      "cell_type": "markdown",
      "source": [
        "seaborn 한글 폰트 for colab"
      ],
      "metadata": {
        "id": "-mm3Oic3CLJP"
      }
    },
    {
      "cell_type": "code",
      "source": [
        "# 단계 1: 폰트 설치\n",
        "import matplotlib.font_manager as fm\n",
        "import matplotlib.pyplot as plt\n",
        "!apt-get -qq -y install fonts-nanum > /dev/null\n",
        "fe = fm.FontEntry(\n",
        "    fname=r'/usr/share/fonts/truetype/nanum/NanumBarunGothic.ttf', # ttf 파일이 저장되어 있는 경로\n",
        "    name='NanumBarunGothic') # 이 폰트의 원하는 이름 설정\n",
        "fm.fontManager.ttflist.insert(0, fe) # Matplotlib에 폰트 추가\n",
        "plt.rcParams.update({'font.size': 18, 'font.family': 'NanumBarunGothic'}) # 폰트 설치"
      ],
      "metadata": {
        "id": "kdZdBdSZFkGL"
      },
      "execution_count": null,
      "outputs": []
    },
    {
      "cell_type": "code",
      "source": [
        "# 단계 2: 런타임 재시작\n",
        "import os\n",
        "os.kill(os.getpid(), 9)"
      ],
      "metadata": {
        "id": "q-aiBjyrRApZ"
      },
      "execution_count": null,
      "outputs": []
    },
    {
      "cell_type": "code",
      "source": [
        "# 단계 3: 한글 폰트 설정\n",
        "import matplotlib.pyplot as plt\n",
        "import matplotlib as mpl\n",
        "import matplotlib.font_manager as fm\n",
        "# 마이너스 표시 문제\n",
        "mpl.rcParams['axes.unicode_minus'] = False\n",
        "# 한글 폰트 설정\n",
        "fe = fm.FontEntry(\n",
        "    fname=r'/usr/share/fonts/truetype/nanum/NanumBarunGothic.ttf', # ttf 파일이 저장되어 있는 경로\n",
        "    name='NanumBarunGothic') # 이 폰트의 원하는 이름 설정\n",
        "fm.fontManager.ttflist.insert(0, fe) # Matplotlib에 폰트 추가\n",
        "plt.rcParams.update({'font.size': 18, 'font.family': 'NanumBarunGothic'}) # 폰트"
      ],
      "metadata": {
        "id": "-7_ZGuChCjuo"
      },
      "execution_count": null,
      "outputs": []
    },
    {
      "cell_type": "code",
      "source": [
        "!sudo apt-get install -y fonts-nanum\n",
        "!sudo fc-cache -fv\n",
        "!rm ~/.cache/matplotlib -rf\n"
      ],
      "metadata": {
        "id": "cIvbjYugoprQ"
      },
      "execution_count": null,
      "outputs": []
    },
    {
      "cell_type": "code",
      "source": [
        "import matplotlib.pyplot as plt\n",
        "\n",
        "plt.rc('font', family='NanumBarunGothic')"
      ],
      "metadata": {
        "id": "OpIGLfKYo47U"
      },
      "execution_count": null,
      "outputs": []
    },
    {
      "cell_type": "markdown",
      "source": [
        "CSV 파일 불러오기 및 열이름 설정\n"
      ],
      "metadata": {
        "id": "kSNNYFGHSpC8"
      }
    },
    {
      "cell_type": "code",
      "execution_count": null,
      "metadata": {
        "id": "zhIFPNxqQT8_"
      },
      "outputs": [],
      "source": [
        "import pandas as pd\n",
        "\n",
        "df1 = pd.read_csv(\"/content/cars_recall1.csv\", encoding=\"euc-kr\")\n",
        "df2 = pd.read_csv(\"/content/cars_recall2.csv\", encoding=\"euc-kr\")\n",
        "\n",
        "#  데이터프레임의 정보 출력\n",
        "print(df1.info())\n",
        "print(\"\\n\")\n",
        "print(df2.info())\n",
        "\n",
        "# 각 데이터프레임의 열 명 지정\n",
        "column_names = [\"제작사\", \"차명\", \"생산기간(부터)\", \"생산기간(까지)\", \"리콜개시일\", \"리콜사유\"]\n",
        "column_names2 = [\"접수일자\", \"제작사\", \"차명\", \"모델년도\"]\n",
        "df1.columns = column_names\n",
        "df2.columns = column_names2\n",
        "\n",
        "# 변경 결과 출력\n",
        "print(df1)\n",
        "print(\"\\n\")\n",
        "print(df2)"
      ]
    },
    {
      "cell_type": "markdown",
      "source": [
        "데이터 가공 - 필요한 데이터만 추출하기"
      ],
      "metadata": {
        "id": "AJr-4iymS6Er"
      }
    },
    {
      "cell_type": "code",
      "source": [
        "# 생산기간은 년도 부분만 추출\n",
        "# 생산기간과 모델년도를 동일하게 간주함\n",
        "# 생산기간(까지)를 모델년도로 간주함\n",
        "df1.drop(['리콜사유', '생산기간(부터)'], axis=1, inplace=True)\n",
        "print(df1)\n",
        "\n",
        "print(df2)"
      ],
      "metadata": {
        "id": "ebkwwZplTAXB"
      },
      "execution_count": null,
      "outputs": []
    },
    {
      "cell_type": "code",
      "source": [
        "#df1에서 생산기간(까지)를 모델년도로 설정하고, 년도만 추출하여 변경사항 적용\n",
        "df1.rename(columns={'생산기간(까지)':'모델년도'}, inplace=True)\n",
        "df1['모델년도'] = df1['모델년도'].str.extract(r'(\\d{4})')\n",
        "print(df1)"
      ],
      "metadata": {
        "id": "G_vgeFPHbbE1"
      },
      "execution_count": null,
      "outputs": []
    },
    {
      "cell_type": "code",
      "source": [
        "print(df1)\n",
        "print(df2)\n",
        "print('\\n')\n",
        "\n",
        "df2.rename(columns={'접수일자':'리콜개시일'}, inplace=True)\n",
        "print(df1)\n",
        "print(df2)\n"
      ],
      "metadata": {
        "id": "XCdLMvc9SvB0"
      },
      "execution_count": null,
      "outputs": []
    },
    {
      "cell_type": "markdown",
      "source": [
        "특정 열의 위치 바꾸기"
      ],
      "metadata": {
        "id": "-VxAbwNvrFtv"
      }
    },
    {
      "cell_type": "code",
      "source": [
        "column_to_move = '리콜개시일'\n",
        "\n",
        "# 특정 열을 제외한 나머지 열들을 리스트에 추가, 새로운 순서를 만들기 위함\n",
        "new_column_order = [col for col in df2.columns if col != column_to_move]\n",
        "new_column_order.append(column_to_move) # 위치를 바꾸고 싶은 열을 맨 끝에다 추가\n",
        "\n",
        "# 열을 다시 재정렬\n",
        "df2 = df2[new_column_order]\n",
        "print(df2)\n",
        "\n",
        "df1.info()\n",
        "print('\\n')\n",
        "df2.info()"
      ],
      "metadata": {
        "id": "xntvYIXerFBL"
      },
      "execution_count": null,
      "outputs": []
    },
    {
      "cell_type": "markdown",
      "source": [
        "두 데이터프레임 연결하기"
      ],
      "metadata": {
        "id": "0rG0MPG2Sv_1"
      }
    },
    {
      "cell_type": "code",
      "source": [
        "df3 = pd.concat([df1, df2], join='outer')\n",
        "print(df3)"
      ],
      "metadata": {
        "id": "G19ubX4drPqD"
      },
      "execution_count": null,
      "outputs": []
    },
    {
      "cell_type": "code",
      "source": [
        "# Sort the DataFrame based on the '리콜개시일' column in ascending order (oldest to newest dates)\n",
        "df3 = df3.sort_values(by='리콜개시일')\n",
        "\n",
        "# Reset the index after sorting (optional)\n",
        "df3 = df3.reset_index(drop=True)\n",
        "print(df3)"
      ],
      "metadata": {
        "id": "uxmloX7ormeA"
      },
      "execution_count": null,
      "outputs": []
    },
    {
      "cell_type": "markdown",
      "source": [
        "계절별로 구분하기"
      ],
      "metadata": {
        "id": "YX3QGJ_ksKOT"
      }
    },
    {
      "cell_type": "code",
      "source": [
        "# 계절별: 봄(3~5), 여름(6~8), 가을(9~11), 겨울(12~2)\n",
        "# 계절별로 구분했을 때 구분결과를 보여주는 열 추가하기\n",
        "# 봄은 Spring, 여름은 Summer, 가을은 Autumn, 겨울은 Winter\n",
        "\n",
        "# Convert '리콜개시일' column to datetime\n",
        "df3['리콜개시일'] = pd.to_datetime(df3['리콜개시일'])\n",
        "\n",
        "# Define a function to map months to seasons\n",
        "def get_season(month):\n",
        "    if 3 <= month <= 5:\n",
        "        return 'Spring'\n",
        "    elif 6 <= month <= 8:\n",
        "        return 'Summer'\n",
        "    elif 9 <= month <= 11:\n",
        "        return 'Autumn'\n",
        "    else:\n",
        "        return 'Winter'\n",
        "\n",
        "# Create a new column 'Season' based on the '리콜개시일' column\n",
        "df3['계절'] = df3['리콜개시일'].dt.month.apply(get_season)\n",
        "\n",
        "# Now, df1 will have a 'Season' column with the corresponding seasons\n",
        "print(df3)\n"
      ],
      "metadata": {
        "id": "EqaXX27lsJzR"
      },
      "execution_count": null,
      "outputs": []
    },
    {
      "cell_type": "markdown",
      "source": [
        "월별로 구분하기"
      ],
      "metadata": {
        "id": "99mdxQ29y0__"
      }
    },
    {
      "cell_type": "code",
      "source": [
        "# Convert '리콜개시일' column to datetime\n",
        "df3['리콜개시일'] = pd.to_datetime(df3['리콜개시일'])\n",
        "\n",
        "# Define a function to map months to names\n",
        "def get_month_name(month):\n",
        "    month_names = [\n",
        "        'Jan', 'Feb', 'Mar', 'April', 'May', 'June',\n",
        "        'July', 'Aug', 'Sep', 'Oct', 'Nov', 'Dec'\n",
        "    ]\n",
        "    return month_names[month - 1]\n",
        "\n",
        "# Create a new column 'Month' based on the '리콜개시일' column\n",
        "df3['월별'] = df3['리콜개시일'].dt.month.apply(get_month_name)\n",
        "\n",
        "# Now, df1 will have a 'Month' column with the corresponding month names\n",
        "print(df3)"
      ],
      "metadata": {
        "id": "4tk3fR1Tx913"
      },
      "execution_count": null,
      "outputs": []
    },
    {
      "cell_type": "markdown",
      "source": [
        "결측치, NaN 값 확인 및 제거하기"
      ],
      "metadata": {
        "id": "KRsjufMJzARL"
      }
    },
    {
      "cell_type": "code",
      "source": [
        "df3.isna().sum(axis=0)"
      ],
      "metadata": {
        "id": "z1CUD3QouRY9"
      },
      "execution_count": null,
      "outputs": []
    },
    {
      "cell_type": "code",
      "source": [
        "df3 = df3.dropna()\n",
        "print(df3)"
      ],
      "metadata": {
        "id": "JJbV_MYnu4zw"
      },
      "execution_count": null,
      "outputs": []
    },
    {
      "cell_type": "code",
      "source": [
        "# 결과를 csv로 저장\n",
        "df3.to_csv(\"/content/result.csv\", encoding=\"euc-kr\")\n",
        "df3.isna().sum(axis=0)"
      ],
      "metadata": {
        "id": "-0mhdFSB9gFJ"
      },
      "execution_count": null,
      "outputs": []
    },
    {
      "cell_type": "markdown",
      "source": [
        "시각화하기"
      ],
      "metadata": {
        "id": "XAhFBZskzqfm"
      }
    },
    {
      "cell_type": "markdown",
      "source": [
        "그룹화하기 및 리콜 횟수가 많은 순서대로 정렬하기"
      ],
      "metadata": {
        "id": "JRvFgOZyvogr"
      }
    },
    {
      "cell_type": "code",
      "source": [
        "# 계절별로 구분하기\n",
        "import matplotlib.pyplot as plt\n",
        "import seaborn as sns\n",
        "import pandas as pd\n",
        "\n",
        "# csv 불러오기\n",
        "df3 = pd.read_csv(\"/content/result.csv\", encoding=\"euc-kr\")\n",
        "\n",
        "grouped_Season = df3.groupby(['계절'])\n",
        "grouped_Season.count().sort_values(by='리콜개시일', ascending=False)\n",
        "\n",
        "# Reset the index to make '계절' a regular column, not the index\n",
        "grouped_Season = grouped_Season.count().reset_index()\n",
        "grouped_Season.rename(columns={\"계절\": 'Seasons', \"리콜개시일\": 'recall_count'}, inplace=True)\n",
        "\n",
        "# Define the order in which you want the seasons to appear\n",
        "season_order = ['Spring', 'Summer', 'Autumn', 'Winter']\n",
        "\n",
        "# Create a bar chart with the specified season order\n",
        "plt.figure(figsize=(8, 5))\n",
        "sns.set(style=\"darkgrid\")\n",
        "\n",
        "ax = sns.barplot(x=\"Seasons\", y=\"recall_count\", data=grouped_Season, order=season_order, palette=\"Set2\")\n",
        "plt.show()"
      ],
      "metadata": {
        "id": "vT0CpdievZk7"
      },
      "execution_count": null,
      "outputs": []
    },
    {
      "cell_type": "code",
      "source": [
        "# 제작사별로 구분하기\n",
        "import matplotlib.pyplot as plt\n",
        "import seaborn as sns\n",
        "import pandas as pd\n",
        "\n",
        "# 그래프 그리기\n",
        "df3 = pd.read_csv(\"/content/result.csv\", encoding=\"euc-kr\")\n",
        "\n",
        "grouped_manufacturer = df3.groupby(['제작사'])\n",
        "grouped_manufacturer.count()[\"차명\"].sort_values(ascending=False)\n",
        "pd.DataFrame(grouped_manufacturer.count()[\"차명\"].sort_values(ascending=False)).rename(columns={\"차명\":\"리콜횟수\"})\n",
        "\n",
        "grouped_manufacturer = grouped_manufacturer.count().reset_index()\n",
        "grouped_manufacturer.rename(columns={\"제작사\": 'manufacturer', \"리콜개시일\": 'recall_count'}, inplace=True)\n",
        "\n",
        "top_manufacturers = grouped_manufacturer.sort_values(by='recall_count', ascending=False).head(20)\n",
        "\n",
        "# 시각화\n",
        "plt.figure(figsize=(25, 15))\n",
        "sns.set(style=\"darkgrid\")\n",
        "sns.set_palette(\"Set2\")\n",
        "\n",
        "ax = sns.barplot(x=\"manufacturer\", y=\"recall_count\", data=top_manufacturers)\n",
        "\n",
        "# Matplotlib 함수로 한글 폰트 설정 및 xticks 조정\n",
        "plt.xticks(rotation=45, fontname='NanumBarunGothic')\n",
        "plt.xlabel('제작사', fontname='NanumBarunGothic')\n",
        "plt.ylabel('리콜횟수', fontname='NanumBarunGothic')\n",
        "plt.title('상위 20 제작사별 리콜횟수', fontname='NanumBarunGothic')\n",
        "\n",
        "plt.show()\n"
      ],
      "metadata": {
        "id": "xvWCKWnqwa1r"
      },
      "execution_count": null,
      "outputs": []
    },
    {
      "cell_type": "code",
      "source": [
        "# 모델별로 구분하기\n",
        "\n",
        "import matplotlib.pyplot as plt\n",
        "import seaborn as sns\n",
        "import pandas as pd\n",
        "\n",
        "# 그래프 그리기\n",
        "df3 = pd.read_csv(\"/content/result.csv\", encoding=\"euc-kr\")\n",
        "\n",
        "grouped_models = df3.groupby(['차명'])\n",
        "grouped_models.count()[\"리콜개시일\"].sort_values(ascending=False)\n",
        "\n",
        "grouped_models = grouped_models.count().reset_index()\n",
        "grouped_models.rename(columns={\"차명\": 'models', \"리콜개시일\": 'recall_count'}, inplace=True)\n",
        "\n",
        "top_models = grouped_models.sort_values(by='recall_count', ascending=False).head(20)\n",
        "\n",
        "# 시각화\n",
        "plt.figure(figsize=(25, 15))\n",
        "sns.set(style=\"darkgrid\")\n",
        "sns.set_palette(\"Paired\")\n",
        "\n",
        "ax = sns.barplot(x=\"models\", y=\"recall_count\", data=top_models)\n",
        "\n",
        "# Matplotlib 함수로 한글 폰트 설정 및 xticks 조정\n",
        "plt.xticks(rotation=45, fontname='NanumBarunGothic')\n",
        "plt.xlabel('모델명', fontname='NanumBarunGothic')\n",
        "plt.ylabel('리콜횟수', fontname='NanumBarunGothic')\n",
        "plt.title('상위 20 모델별 리콜횟수', fontname='NanumBarunGothic')\n",
        "\n",
        "plt.show()"
      ],
      "metadata": {
        "id": "jiMTbS8r2u4C"
      },
      "execution_count": null,
      "outputs": []
    },
    {
      "cell_type": "code",
      "source": [
        "# 월별로 구분하기\n",
        "import matplotlib.pyplot as plt\n",
        "import seaborn as sns\n",
        "import pandas as pd\n",
        "\n",
        "# csv 불러오기\n",
        "df3 = pd.read_csv(\"/content/result.csv\", encoding=\"euc-kr\")\n",
        "\n",
        "grouped_monthly = df3.groupby(['월별'])\n",
        "grouped_monthly.count()[\"리콜개시일\"].sort_values(ascending=False)\n",
        "\n",
        "# Reset the index to make '계절' a regular column, not the index\n",
        "grouped_monthly = grouped_monthly.count().reset_index()\n",
        "grouped_monthly.rename(columns={\"월별\": 'months', \"리콜개시일\": 'recall_count'}, inplace=True)\n",
        "\n",
        "# Define the order in which you want the seasons to appear\n",
        "month_order = ['Jan', 'Feb', 'Mar', 'April', 'May', 'June', 'July', 'Aug', 'Sep', 'Oct', 'Nov', 'Dec']\n",
        "\n",
        "# Create a bar chart with the specified season order\n",
        "plt.figure(figsize=(10, 5))\n",
        "sns.set(style=\"darkgrid\")\n",
        "sns.barplot(x=\"months\", y=\"recall_count\", data=grouped_monthly, order=month_order, palette=\"Set2\")\n",
        "plt.show()"
      ],
      "metadata": {
        "id": "hHuDve3bzLOG"
      },
      "execution_count": null,
      "outputs": []
    }
  ]
}